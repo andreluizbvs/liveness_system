{
 "cells": [
  {
   "cell_type": "code",
   "execution_count": null,
   "metadata": {},
   "outputs": [],
   "source": [
    "import cv2\n",
    "import numpy as np\n",
    "\n",
    "from src.models.adversarial_attack import AdversarialAttack"
   ]
  },
  {
   "cell_type": "code",
   "execution_count": null,
   "metadata": {},
   "outputs": [],
   "source": [
    "img = cv2.imread('../../data/silicone_video_frames/real/12.mp4_228.jpg')\n",
    "\n",
    "adv_att = AdversarialAttack()\n",
    "\n",
    "img_aug = adv_att.manipulate_image(img)\n",
    "\n",
    "mask = np.dstack([adv_att.mask] * 3)\n",
    "img = cv2.resize(img, (640, 640))\n",
    "# Display the original image and the mask\n",
    "side_by_side = np.hstack((img, mask, img_aug))\n",
    "cv2.imshow('Images Side by Side', side_by_side)\n",
    "cv2.waitKey(0)\n",
    "cv2.destroyAllWindows()"
   ]
  }
 ],
 "metadata": {
  "kernelspec": {
   "display_name": "liveness",
   "language": "python",
   "name": "python3"
  },
  "language_info": {
   "codemirror_mode": {
    "name": "ipython",
    "version": 3
   },
   "file_extension": ".py",
   "mimetype": "text/x-python",
   "name": "python",
   "nbconvert_exporter": "python",
   "pygments_lexer": "ipython3",
   "version": "3.12.4"
  }
 },
 "nbformat": 4,
 "nbformat_minor": 2
}
