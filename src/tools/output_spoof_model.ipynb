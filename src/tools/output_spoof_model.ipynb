{
 "cells": [
  {
   "cell_type": "code",
   "execution_count": 54,
   "metadata": {},
   "outputs": [],
   "source": [
    "import os\n",
    "\n",
    "import cv2\n",
    "import numpy as np\n",
    "import tensorflow as tf\n",
    "from huggingface_hub import from_pretrained_keras\n",
    "\n",
    "IMG_SIZE = 224"
   ]
  },
  {
   "cell_type": "code",
   "execution_count": null,
   "metadata": {},
   "outputs": [],
   "source": [
    "backbone = from_pretrained_keras(\"keras-io/monocular-depth-estimation\")"
   ]
  },
  {
   "cell_type": "code",
   "execution_count": 55,
   "metadata": {},
   "outputs": [
    {
     "name": "stderr",
     "output_type": "stream",
     "text": [
      "/home/pessoal/miniconda3/envs/liveness/lib/python3.12/site-packages/onnxruntime/capi/onnxruntime_inference_collection.py:69: UserWarning: Specified provider 'CUDAExecutionProvider' is not in available provider names.Available providers: 'AzureExecutionProvider, CPUExecutionProvider'\n",
      "  warnings.warn(\n"
     ]
    }
   ],
   "source": [
    "import onnxruntime as ort\n",
    "session = ort.InferenceSession(\"../../ckpt/aenet_complete_output.onnx\")\n",
    "session.set_providers(['CUDAExecutionProvider'])\n",
    "input_name = session.get_inputs()[0].name"
   ]
  },
  {
   "cell_type": "code",
   "execution_count": 56,
   "metadata": {},
   "outputs": [
    {
     "name": "stdout",
     "output_type": "stream",
     "text": [
      "['/home/pessoal/Documents/repos/liveness_system/data/celebA-spoof/CelebA_Spoof_/CelebA_Spoof/Data/test/4930/live/504311.png', '/home/pessoal/Documents/repos/liveness_system/data/celebA-spoof/CelebA_Spoof_/CelebA_Spoof/Data/test/4930/live/511717.png', '/home/pessoal/Documents/repos/liveness_system/data/celebA-spoof/CelebA_Spoof_/CelebA_Spoof/Data/test/4931/live/494918.png', '/home/pessoal/Documents/repos/liveness_system/data/celebA-spoof/CelebA_Spoof_/CelebA_Spoof/Data/test/4943/live/494437.png', '/home/pessoal/Documents/repos/liveness_system/data/celebA-spoof/CelebA_Spoof_/CelebA_Spoof/Data/test/4973/live/494955.png']\n",
      "['/home/pessoal/Documents/repos/liveness_system/data/celebA-spoof/CelebA_Spoof_/CelebA_Spoof/Data/test/4930/spoof/495600.png', '/home/pessoal/Documents/repos/liveness_system/data/celebA-spoof/CelebA_Spoof_/CelebA_Spoof/Data/test/3613/spoof/541354.png', '/home/pessoal/Documents/repos/liveness_system/data/celebA-spoof/CelebA_Spoof_/CelebA_Spoof/Data/test/4931/spoof/497474.png', '/home/pessoal/Documents/repos/liveness_system/data/celebA-spoof/CelebA_Spoof_/CelebA_Spoof/Data/test/4943/spoof/494824.png', '/home/pessoal/Documents/repos/liveness_system/data/celebA-spoof/CelebA_Spoof_/CelebA_Spoof/Data/test/4973/spoof/502204.png']\n",
      "['/home/pessoal/Documents/repos/liveness_system/data/celebA-spoof/CelebA_Spoof_/CelebA_Spoof/Data/test/4930/live/504311_BB.txt', '/home/pessoal/Documents/repos/liveness_system/data/celebA-spoof/CelebA_Spoof_/CelebA_Spoof/Data/test/4930/live/511717_BB.txt', '/home/pessoal/Documents/repos/liveness_system/data/celebA-spoof/CelebA_Spoof_/CelebA_Spoof/Data/test/4931/live/494918_BB.txt', '/home/pessoal/Documents/repos/liveness_system/data/celebA-spoof/CelebA_Spoof_/CelebA_Spoof/Data/test/4943/live/494437_BB.txt', '/home/pessoal/Documents/repos/liveness_system/data/celebA-spoof/CelebA_Spoof_/CelebA_Spoof/Data/test/4973/live/494955_BB.txt']\n",
      "['/home/pessoal/Documents/repos/liveness_system/data/celebA-spoof/CelebA_Spoof_/CelebA_Spoof/Data/test/4930/spoof/495600_BB.txt', '/home/pessoal/Documents/repos/liveness_system/data/celebA-spoof/CelebA_Spoof_/CelebA_Spoof/Data/test/3613/spoof/541354_BB.txt', '/home/pessoal/Documents/repos/liveness_system/data/celebA-spoof/CelebA_Spoof_/CelebA_Spoof/Data/test/4931/spoof/497474_BB.txt', '/home/pessoal/Documents/repos/liveness_system/data/celebA-spoof/CelebA_Spoof_/CelebA_Spoof/Data/test/4943/spoof/494824_BB.txt', '/home/pessoal/Documents/repos/liveness_system/data/celebA-spoof/CelebA_Spoof_/CelebA_Spoof/Data/test/4973/spoof/502204_BB.txt']\n"
     ]
    }
   ],
   "source": [
    "base_path = \"/home/pessoal/Documents/repos/liveness_system/data/celebA-spoof/CelebA_Spoof_/CelebA_Spoof/Data/test/\"\n",
    "live_paths = [\n",
    "    os.path.join(base_path, \"4930/live/504311.png\"),\n",
    "    os.path.join(base_path, \"4930/live/511717.png\"),\n",
    "    os.path.join(base_path, \"4931/live/494918.png\"),\n",
    "    os.path.join(base_path, \"4943/live/494437.png\"),\n",
    "    os.path.join(base_path, \"4973/live/494955.png\"),\n",
    "]\n",
    "spoof_paths = [\n",
    "    os.path.join(base_path, \"4930/spoof/495600.png\"),\n",
    "    os.path.join(base_path, \"3613/spoof/541354.png\"),\n",
    "    os.path.join(base_path, \"4931/spoof/497474.png\"),\n",
    "    os.path.join(base_path, \"4943/spoof/494824.png\"),\n",
    "    os.path.join(base_path, \"4973/spoof/502204.png\"),\n",
    "]\n",
    "bbox_lives = [\"\".join(path.split(\".\")[:-1]) + \"_BB.txt\" for path in live_paths]\n",
    "bbox_spoofs = [\"\".join(path.split(\".\")[:-1]) + \"_BB.txt\" for path in spoof_paths]\n",
    "\n",
    "print(live_paths)\n",
    "print(spoof_paths)\n",
    "print(bbox_lives)\n",
    "print(bbox_spoofs)"
   ]
  },
  {
   "cell_type": "code",
   "execution_count": 57,
   "metadata": {},
   "outputs": [
    {
     "name": "stdout",
     "output_type": "stream",
     "text": [
      "(495, 500, 3)\n",
      "(450, 600, 3)\n",
      "[54, 57, 96, 129]\n",
      "[33, 57, 94, 115]\n"
     ]
    }
   ],
   "source": [
    "live_images = []\n",
    "spoof_images = []\n",
    "bb_lives = []\n",
    "bb_spoofs = []\n",
    "\n",
    "for live_path, spoof_path, bb_live, bb_spoof in zip(live_paths, spoof_paths, bbox_lives, bbox_spoofs):\n",
    "    # Load the images\n",
    "    live_images.append(cv2.imread(live_path))\n",
    "    spoof_images.append(cv2.imread(spoof_path))\n",
    "\n",
    "    # Extract bounding boxes\n",
    "    with open(bb_live, \"r\") as file:\n",
    "        bb_lives.append(list(map(int, file.readlines()[0].split()[:-1])))\n",
    "\n",
    "    with open(bb_spoof, \"r\") as file:\n",
    "        bb_spoofs.append(list(map(int, file.readlines()[0].split()[:-1])))\n",
    "\n",
    "print(live_images[0].shape)\n",
    "print(spoof_images[0].shape)\n",
    "print(bb_lives[0])\n",
    "print(bb_spoofs[0])\n",
    "bbox_lives = bb_lives\n",
    "bbox_spoofs = bb_spoofs"
   ]
  },
  {
   "cell_type": "code",
   "execution_count": 58,
   "metadata": {},
   "outputs": [],
   "source": [
    "for i in range(len(live_images)):\n",
    "    # Resize images\n",
    "    live_images[i] = cv2.resize(live_images[i], (IMG_SIZE, IMG_SIZE))\n",
    "    spoof_images[i] = cv2.resize(spoof_images[i], (IMG_SIZE, IMG_SIZE))\n",
    "\n",
    "    # Crop faces and show cropped images\n",
    "    bbox_live = bbox_lives[i]\n",
    "    bbox_spoof = bbox_spoofs[i]\n",
    "\n",
    "    live_images[i] = live_images[i][\n",
    "        bbox_live[1] : bbox_live[1] + bbox_live[3],\n",
    "        bbox_live[0] : bbox_live[0] + bbox_live[2],\n",
    "    ]\n",
    "    spoof_images[i] = spoof_images[i][\n",
    "        bbox_spoof[1] : bbox_spoof[1] + bbox_spoof[3],\n",
    "        bbox_spoof[0] : bbox_spoof[0] + bbox_spoof[2],\n",
    "    ]"
   ]
  },
  {
   "cell_type": "code",
   "execution_count": 59,
   "metadata": {},
   "outputs": [
    {
     "name": "stdout",
     "output_type": "stream",
     "text": [
      "(1, 2)\n",
      "(1, 1, 14, 14)\n",
      "(1, 3, 14, 14)\n",
      "(1, 40)\n",
      "(1, 11)\n",
      "(1, 5)\n",
      "[[ 1.3083305 -1.2484285]]\n",
      "[[-5.7333527  5.991271 ]]\n",
      "(1, 2)\n",
      "(1, 1, 14, 14)\n",
      "(1, 3, 14, 14)\n",
      "(1, 40)\n",
      "(1, 11)\n",
      "(1, 5)\n",
      "[[ 2.8779607 -2.9063878]]\n",
      "[[-6.8667774  6.9544535]]\n",
      "(1, 2)\n",
      "(1, 1, 14, 14)\n",
      "(1, 3, 14, 14)\n",
      "(1, 40)\n",
      "(1, 11)\n",
      "(1, 5)\n",
      "[[-3.843918   3.7828765]]\n",
      "[[-9.21073   9.287416]]\n"
     ]
    },
    {
     "name": "stderr",
     "output_type": "stream",
     "text": [
      "/tmp/ipykernel_377119/983765357.py:87: RuntimeWarning: invalid value encountered in divide\n",
      "  (spoof_depth_map - np.min(spoof_depth_map))\n",
      "/tmp/ipykernel_377119/983765357.py:94: RuntimeWarning: invalid value encountered in cast\n",
      "  spoof_depth_map = spoof_depth_map.astype(np.uint8)\n"
     ]
    },
    {
     "name": "stdout",
     "output_type": "stream",
     "text": [
      "(1, 2)\n",
      "(1, 1, 14, 14)\n",
      "(1, 3, 14, 14)\n",
      "(1, 40)\n",
      "(1, 11)\n",
      "(1, 5)\n",
      "[[-0.6511588   0.57541764]]\n",
      "[[-7.6500654  7.7122574]]\n",
      "(1, 2)\n",
      "(1, 1, 14, 14)\n",
      "(1, 3, 14, 14)\n",
      "(1, 40)\n",
      "(1, 11)\n",
      "(1, 5)\n",
      "[[ 4.3500648 -4.3044214]]\n",
      "[[-7.0702085  7.229003 ]]\n"
     ]
    }
   ],
   "source": [
    "for i in range(len(live_images)):\n",
    "    # Preprocess the cropped images\n",
    "    live_images[i] = cv2.resize(live_images[i], (IMG_SIZE, IMG_SIZE))\n",
    "    spoof_images[i] = cv2.resize(spoof_images[i], (IMG_SIZE, IMG_SIZE))\n",
    "    cv2.imwrite(\"Live_Image.png\", live_images[i])\n",
    "    cv2.imwrite(\"Spoof_Image.png\", spoof_images[i])\n",
    "    live_images[i] = cv2.cvtColor(live_images[i], cv2.COLOR_BGR2RGB)\n",
    "    spoof_images[i] = cv2.cvtColor(spoof_images[i], cv2.COLOR_BGR2RGB)\n",
    "\n",
    "    live_images[i] = live_images[i].astype(np.float32)\n",
    "    spoof_images[i] = spoof_images[i].astype(np.float32)\n",
    "\n",
    "\n",
    "    #--------------------------------------------------------------------------\n",
    "    # Old normalization\n",
    "    # # z-score normalization + scaling to [-1, 1]\n",
    "\n",
    "    # live_image = (live_image - np.mean(live_image)) / np.std(live_image)\n",
    "    # spoof_image = (spoof_image - np.mean(spoof_image)) / np.std(spoof_image)\n",
    "\n",
    "    # live_image = (\n",
    "    #     (live_image - np.min(live_image))\n",
    "    #     / (np.max(live_image) - np.min(live_image))\n",
    "    # )\n",
    "    # spoof_image = (\n",
    "    #     (spoof_image - np.min(spoof_image))\n",
    "    #     / (np.max(spoof_image) - np.min(spoof_image))\n",
    "    # )\n",
    "\n",
    "    # live_image = live_image * 2.0 - 1.0\n",
    "    # spoof_image = spoof_image * 2.0 - 1.0\n",
    "\n",
    "    # print(np.max(live_image))\n",
    "    # print(np.min(live_image))\n",
    "    # print(np.max(spoof_image))\n",
    "    # print(np.min(spoof_image))\n",
    "    #--------------------------------------------------------------------------\n",
    "\n",
    "\n",
    "    # # Normalize for tensorflow model\n",
    "    # live_images[i] /= 127.5\n",
    "    # live_images[i] -= 1.0\n",
    "    # spoof_images[i] /= 127.5\n",
    "    # spoof_images[i] -= 1.0\n",
    "\n",
    "    # # Make predictions\n",
    "    # live_images[i] = tf.expand_dims(live_images[i], axis=0)\n",
    "    # spoof_images[i] = tf.expand_dims(spoof_images[i], axis=0)\n",
    "    # live_depth_map = backbone.predict(live_images[i])[0]\n",
    "    # spoof_depth_map = backbone.predict(spoof_images[i])[0]\n",
    "\n",
    "\n",
    "    # Normalize for torch model and make predictions\n",
    "    live_images[i] /= 255.\n",
    "    spoof_images[i] /= 255.\n",
    "    live_images[i] = np.transpose(live_images[i], (2, 0, 1))\n",
    "    spoof_images[i] = np.transpose(spoof_images[i], (2, 0, 1))\n",
    "    live_images[i] = np.expand_dims(live_images[i], axis=0)\n",
    "    spoof_images[i] = np.expand_dims(spoof_images[i], axis=0)\n",
    "    result_live = session.run(None, {input_name: live_images[i].astype(np.float32)})\n",
    "    result_spoof = session.run(None, {input_name: spoof_images[i].astype(np.float32)})\n",
    "\n",
    "    x_live, live_depth_map, reflect_map_live, x_live_attribute_live, x_attack_live, x_light_live = result_live\n",
    "    x_spoof, spoof_depth_map, reflect_map_spoof, x_spoof_attribute_spoof, x_attack_spoof, x_light_spoof = result_spoof\n",
    "\n",
    "    print(x_live.shape)\n",
    "    print(live_depth_map.shape)\n",
    "    print(reflect_map_live.shape)\n",
    "    print(x_live_attribute_live.shape)\n",
    "    print(x_attack_live.shape)\n",
    "    print(x_light_live.shape)\n",
    "\n",
    "    print(x_live)\n",
    "    print(x_spoof)\n",
    "\n",
    "    live_depth_map = np.transpose(live_depth_map[0], (1, 2, 0))\n",
    "    spoof_depth_map = np.transpose(spoof_depth_map[0], (1, 2, 0))\n",
    "\n",
    "\n",
    "    # Normalize the depth maps\n",
    "    live_depth_map = (\n",
    "        (live_depth_map - np.min(live_depth_map))\n",
    "        / (np.max(live_depth_map) - np.min(live_depth_map))\n",
    "        * 255.0\n",
    "    )\n",
    "    spoof_depth_map = (\n",
    "        (spoof_depth_map - np.min(spoof_depth_map))\n",
    "        / (np.max(spoof_depth_map) - np.min(spoof_depth_map))\n",
    "        * 255.0\n",
    "    )\n",
    "\n",
    "    # Convert the masks to uint8\n",
    "    live_depth_map = live_depth_map.astype(np.uint8)\n",
    "    spoof_depth_map = spoof_depth_map.astype(np.uint8)\n",
    "\n",
    "    cv2.imwrite(\"Live_Depth_Map.png\", live_depth_map)\n",
    "    cv2.imwrite(\"Spoof_Depth_Map.png\", spoof_depth_map)\n",
    "\n",
    "    # Show the predicted depth maps\n",
    "    cv2.imshow(\"Live Depth Map\", live_depth_map)\n",
    "    cv2.imshow(\"Spoof Depth Map\", spoof_depth_map)\n",
    "    cv2.waitKey(0)\n",
    "    cv2.destroyAllWindows()"
   ]
  },
  {
   "cell_type": "code",
   "execution_count": null,
   "metadata": {},
   "outputs": [],
   "source": []
  }
 ],
 "metadata": {
  "kernelspec": {
   "display_name": "liveness",
   "language": "python",
   "name": "python3"
  },
  "language_info": {
   "codemirror_mode": {
    "name": "ipython",
    "version": 3
   },
   "file_extension": ".py",
   "mimetype": "text/x-python",
   "name": "python",
   "nbconvert_exporter": "python",
   "pygments_lexer": "ipython3",
   "version": "3.12.4"
  }
 },
 "nbformat": 4,
 "nbformat_minor": 2
}
