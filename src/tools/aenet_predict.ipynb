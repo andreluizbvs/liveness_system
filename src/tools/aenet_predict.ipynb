{
 "cells": [
  {
   "cell_type": "code",
   "execution_count": null,
   "metadata": {},
   "outputs": [],
   "source": [
    "import os\n",
    "\n",
    "import cv2\n",
    "from src.models.AENet import Predictor\n",
    "\n",
    "IMG_SIZE = 224"
   ]
  },
  {
   "cell_type": "code",
   "execution_count": null,
   "metadata": {},
   "outputs": [],
   "source": [
    "predictor = Predictor()"
   ]
  },
  {
   "cell_type": "code",
   "execution_count": null,
   "metadata": {},
   "outputs": [],
   "source": [
    "base_path = \"../../data/celebA-spoof/CelebA_Spoof_/CelebA_Spoof/Data/test/\"\n",
    "live_paths = [\n",
    "    os.path.join(base_path, \"4930/live/504311.png\"),\n",
    "    os.path.join(base_path, \"4930/live/511717.png\"),\n",
    "    os.path.join(base_path, \"4931/live/494918.png\"),\n",
    "    os.path.join(base_path, \"4943/live/494437.png\"),\n",
    "    os.path.join(base_path, \"4973/live/494955.png\"),\n",
    "]\n",
    "spoof_paths = [\n",
    "    os.path.join(base_path, \"4930/spoof/495600.png\"),\n",
    "    os.path.join(base_path, \"3613/spoof/541354.png\"),\n",
    "    os.path.join(base_path, \"4931/spoof/497474.png\"),\n",
    "    os.path.join(base_path, \"4943/spoof/494824.png\"),\n",
    "    os.path.join(base_path, \"4973/spoof/502204.png\"),\n",
    "]\n",
    "bbox_lives = [\"\".join(path.split(\".\")[:-1]) + \"_BB.txt\" for path in live_paths]\n",
    "bbox_spoofs = [\"\".join(path.split(\".\")[:-1]) + \"_BB.txt\" for path in spoof_paths]\n",
    "\n",
    "print(live_paths)\n",
    "print(spoof_paths)\n",
    "print(bbox_lives)\n",
    "print(bbox_spoofs)"
   ]
  },
  {
   "cell_type": "code",
   "execution_count": null,
   "metadata": {},
   "outputs": [],
   "source": [
    "live_images = []\n",
    "spoof_images = []\n",
    "bb_lives = []\n",
    "bb_spoofs = []\n",
    "\n",
    "for live_path, spoof_path, bb_live, bb_spoof in zip(live_paths, spoof_paths, bbox_lives, bbox_spoofs):\n",
    "    # Load the images\n",
    "    live_images.append(cv2.imread(live_path))\n",
    "    spoof_images.append(cv2.imread(spoof_path))\n",
    "\n",
    "    # Extract bounding boxes\n",
    "    with open(bb_live, \"r\") as file:\n",
    "        bb_lives.append(list(map(int, file.readlines()[0].split()[:-1])))\n",
    "\n",
    "    with open(bb_spoof, \"r\") as file:\n",
    "        bb_spoofs.append(list(map(int, file.readlines()[0].split()[:-1])))\n",
    "\n",
    "print(live_images[0].shape)\n",
    "print(spoof_images[0].shape)\n",
    "print(bb_lives[0])\n",
    "print(bb_spoofs[0])\n",
    "bbox_lives = bb_lives\n",
    "bbox_spoofs = bb_spoofs"
   ]
  },
  {
   "cell_type": "code",
   "execution_count": null,
   "metadata": {},
   "outputs": [],
   "source": [
    "for i in range(len(live_images)):\n",
    "    # Resize images\n",
    "    live_images[i] = cv2.resize(live_images[i], (IMG_SIZE, IMG_SIZE))\n",
    "    spoof_images[i] = cv2.resize(spoof_images[i], (IMG_SIZE, IMG_SIZE))\n",
    "\n",
    "    # Crop faces and show cropped images\n",
    "    bbox_live = bbox_lives[i]\n",
    "    bbox_spoof = bbox_spoofs[i]\n",
    "\n",
    "    live_images[i] = live_images[i][\n",
    "        bbox_live[1] : bbox_live[1] + bbox_live[3],\n",
    "        bbox_live[0] : bbox_live[0] + bbox_live[2],\n",
    "    ]\n",
    "    spoof_images[i] = spoof_images[i][\n",
    "        bbox_spoof[1] : bbox_spoof[1] + bbox_spoof[3],\n",
    "        bbox_spoof[0] : bbox_spoof[0] + bbox_spoof[2],\n",
    "    ]"
   ]
  },
  {
   "cell_type": "code",
   "execution_count": null,
   "metadata": {},
   "outputs": [],
   "source": [
    "\n",
    "for live in live_images:\n",
    "    rst1 = predictor.predict([live])[0]\n",
    "    print(rst1[1])\n",
    "for spoof in spoof_images:\n",
    "    rst2 = predictor.predict([spoof])[0]\n",
    "    print(rst2[1])"
   ]
  }
 ],
 "metadata": {
  "kernelspec": {
   "display_name": "liveness",
   "language": "python",
   "name": "python3"
  },
  "language_info": {
   "codemirror_mode": {
    "name": "ipython",
    "version": 3
   },
   "file_extension": ".py",
   "mimetype": "text/x-python",
   "name": "python",
   "nbconvert_exporter": "python",
   "pygments_lexer": "ipython3",
   "version": "3.12.4"
  }
 },
 "nbformat": 4,
 "nbformat_minor": 2
}
