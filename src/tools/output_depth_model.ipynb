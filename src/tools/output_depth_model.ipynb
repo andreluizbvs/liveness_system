{
 "cells": [
  {
   "cell_type": "code",
   "execution_count": null,
   "metadata": {},
   "outputs": [],
   "source": [
    "import cv2\n",
    "import numpy as np\n",
    "import tensorflow as tf\n",
    "from huggingface_hub import from_pretrained_keras"
   ]
  },
  {
   "cell_type": "code",
   "execution_count": null,
   "metadata": {},
   "outputs": [],
   "source": [
    "backbone = from_pretrained_keras(\"keras-io/monocular-depth-estimation\")\n",
    "live_path = '/home/pessoal/Documents/repos/liveness_system/data/celebA-spoof/CelebA_Spoof_/CelebA_Spoof/Data/test/4930/live/504311.png'\n",
    "spoof_path = '/home/pessoal/Documents/repos/liveness_system/data/celebA-spoof/CelebA_Spoof_/CelebA_Spoof/Data/test/3613/spoof/541354.png'"
   ]
  },
  {
   "cell_type": "code",
   "execution_count": null,
   "metadata": {},
   "outputs": [],
   "source": [
    "# Load the images\n",
    "live_image = cv2.imread(live_path)\n",
    "spoof_image = cv2.imread(spoof_path)\n",
    "\n",
    "# Preprocess the images\n",
    "live_image = cv2.cvtColor(live_image, cv2.COLOR_BGR2RGB)\n",
    "spoof_image = cv2.cvtColor(spoof_image, cv2.COLOR_BGR2RGB)\n",
    "live_image = cv2.resize(live_image, (224, 224))\n",
    "spoof_image = cv2.resize(spoof_image, (224, 224))\n",
    "live_image = tf.image.convert_image_dtype(live_image, tf.float32)\n",
    "spoof_image = tf.image.convert_image_dtype(spoof_image, tf.float32)\n",
    "\n",
    "live_image = tf.expand_dims(live_image, axis=0)\n",
    "spoof_image = tf.expand_dims(spoof_image, axis=0)\n",
    "\n",
    "\n",
    "# Make predictions\n",
    "live_mask = backbone.predict(live_image)\n",
    "spoof_mask = backbone.predict(spoof_image)\n",
    "\n",
    "live_mask = live_mask[0]\n",
    "spoof_mask = spoof_mask[0]\n",
    "\n",
    "print(np.max(live_mask))\n",
    "print(np.min(live_mask))\n",
    "print(np.max(spoof_mask))\n",
    "print(np.min(spoof_mask))\n",
    "\n",
    "live_mask = (live_mask - np.min(live_mask)) / (np.max(live_mask) - np.min(live_mask)) * 255.0\n",
    "spoof_mask = (spoof_mask - np.min(spoof_mask)) / (np.max(spoof_mask) - np.min(spoof_mask)) * 255.0\n",
    "\n",
    "# Convert the masks to uint8\n",
    "live_mask = live_mask.astype(np.uint8)\n",
    "spoof_mask = spoof_mask.astype(np.uint8)\n",
    "\n",
    "# Show the predicted masks\n",
    "cv2.imshow(\"Live Mask\", live_mask)\n",
    "cv2.imshow(\"Spoof Mask\", spoof_mask)\n",
    "cv2.waitKey(0)\n",
    "cv2.destroyAllWindows()"
   ]
  }
 ],
 "metadata": {
  "kernelspec": {
   "display_name": "liveness",
   "language": "python",
   "name": "python3"
  },
  "language_info": {
   "codemirror_mode": {
    "name": "ipython",
    "version": 3
   },
   "file_extension": ".py",
   "mimetype": "text/x-python",
   "name": "python",
   "nbconvert_exporter": "python",
   "pygments_lexer": "ipython3",
   "version": "3.12.4"
  }
 },
 "nbformat": 4,
 "nbformat_minor": 2
}
