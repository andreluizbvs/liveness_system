{
 "cells": [
  {
   "cell_type": "code",
   "execution_count": null,
   "metadata": {},
   "outputs": [],
   "source": [
    "import os\n",
    "\n",
    "import cv2\n",
    "import numpy as np\n",
    "import tensorflow as tf\n",
    "from huggingface_hub import from_pretrained_keras\n",
    "\n",
    "IMG_SIZE = 224"
   ]
  },
  {
   "cell_type": "code",
   "execution_count": null,
   "metadata": {},
   "outputs": [],
   "source": [
    "backbone = from_pretrained_keras(\"keras-io/monocular-depth-estimation\")"
   ]
  },
  {
   "cell_type": "code",
   "execution_count": null,
   "metadata": {},
   "outputs": [],
   "source": [
    "base_path = \"/home/pessoal/Documents/repos/liveness_system/data/celebA-spoof/CelebA_Spoof_/CelebA_Spoof/Data/test/\"\n",
    "live_path = os.path.join(base_path, \"4930/live/504311.png\")\n",
    "bbox_live = \"\".join(live_path.split(\".\")[:-1]) + \"_BB.txt\"\n",
    "spoof_path = os.path.join(base_path, \"3613/spoof/541354.png\")\n",
    "bbox_spoof = \"\".join(spoof_path.split(\".\")[:-1]) + \"_BB.txt\""
   ]
  },
  {
   "cell_type": "code",
   "execution_count": null,
   "metadata": {},
   "outputs": [],
   "source": [
    "# Load the images\n",
    "live_image = cv2.imread(live_path)\n",
    "spoof_image = cv2.imread(spoof_path)\n",
    "\n",
    "# Extract bounding boxes\n",
    "with open(bbox_live, \"r\") as file:\n",
    "    bbox_live = file.readlines()[0]\n",
    "    bbox_live = list(map(int, bbox_live.split()[:-1]))\n",
    "\n",
    "with open(bbox_spoof, \"r\") as file:\n",
    "    bbox_spoof = file.readlines()[0]\n",
    "    bbox_spoof = list(map(int, bbox_spoof.split()[:-1]))\n"
   ]
  },
  {
   "cell_type": "code",
   "execution_count": null,
   "metadata": {},
   "outputs": [],
   "source": [
    "# Show loaded images\n",
    "cv2.imshow(\"Live Image\", live_image)\n",
    "cv2.imshow(\"Spoof Image\", spoof_image)\n",
    "cv2.waitKey(0)\n",
    "cv2.destroyAllWindows()"
   ]
  },
  {
   "cell_type": "code",
   "execution_count": null,
   "metadata": {},
   "outputs": [],
   "source": [
    "live_image = cv2.resize(live_image, (IMG_SIZE, IMG_SIZE))\n",
    "spoof_image = cv2.resize(spoof_image, (IMG_SIZE, IMG_SIZE))\n",
    "\n",
    "# Crop faces and show cropped images\n",
    "live_image = live_image[\n",
    "    bbox_live[1] : bbox_live[1] + bbox_live[3],\n",
    "    bbox_live[0] : bbox_live[0] + bbox_live[2],\n",
    "]\n",
    "spoof_image = spoof_image[\n",
    "    bbox_spoof[1] : bbox_spoof[1] + bbox_spoof[3],\n",
    "    bbox_spoof[0] : bbox_spoof[0] + bbox_spoof[2],\n",
    "]\n"
   ]
  },
  {
   "cell_type": "code",
   "execution_count": null,
   "metadata": {},
   "outputs": [],
   "source": [
    "# Show cropped images\n",
    "\n",
    "live_image = live_image.astype(np.float32)\n",
    "spoof_image = spoof_image.astype(np.float32)\n",
    "live_image = (live_image - np.mean(live_image)) / np.std(live_image)\n",
    "spoof_image = (spoof_image - np.mean(spoof_image)) / np.std(spoof_image)\n",
    "live_image = (live_image * 255).astype(np.uint8)\n",
    "spoof_image = (spoof_image * 255).astype(np.uint8)\n",
    "cv2.imshow(\"Live Image\", live_image)\n",
    "cv2.imshow(\"Spoof Image\", spoof_image)\n",
    "cv2.waitKey(0)\n",
    "cv2.destroyAllWindows()\n"
   ]
  },
  {
   "cell_type": "code",
   "execution_count": null,
   "metadata": {},
   "outputs": [],
   "source": [
    "# Preprocess the cropped images\n",
    "live_image = cv2.resize(live_image, (IMG_SIZE, IMG_SIZE))\n",
    "spoof_image = cv2.resize(spoof_image, (IMG_SIZE, IMG_SIZE))\n",
    "cv2.imwrite(\"Live_Image.png\", live_image)\n",
    "cv2.imwrite(\"Spoof_Image.png\", spoof_image)\n",
    "live_image = cv2.cvtColor(live_image, cv2.COLOR_BGR2RGB)\n",
    "spoof_image = cv2.cvtColor(spoof_image, cv2.COLOR_BGR2RGB)\n",
    "# live_image = tf.image.convert_image_dtype(live_image, tf.float32)\n",
    "# spoof_image = tf.image.convert_image_dtype(spoof_image, tf.float32)\n",
    "\n",
    "live_image = live_image.astype(np.float32)\n",
    "spoof_image = spoof_image.astype(np.float32)\n",
    "\n",
    "# live_image = (\n",
    "#     (live_image - np.min(live_image))\n",
    "#     / (np.max(live_image) - np.min(live_image))\n",
    "# )\n",
    "# spoof_image = (\n",
    "#     (spoof_image - np.min(spoof_image))\n",
    "#     / (np.max(spoof_image) - np.min(spoof_image))\n",
    "# )\n",
    "\n",
    "live_image /= 127.5\n",
    "live_image -= 1.0\n",
    "spoof_image /= 127.5\n",
    "spoof_image -= 1.0\n",
    "\n",
    "# # z-score normalization + imagenet normalization + scaling to [-1, 1]\n",
    "\n",
    "# live_image = (live_image - np.mean(live_image)) / np.std(live_image)\n",
    "# spoof_image = (spoof_image - np.mean(spoof_image)) / np.std(spoof_image)\n",
    "\n",
    "# live_image = (\n",
    "#     (live_image - np.min(live_image))\n",
    "#     / (np.max(live_image) - np.min(live_image))\n",
    "# )\n",
    "# spoof_image = (\n",
    "#     (spoof_image - np.min(spoof_image))\n",
    "#     / (np.max(spoof_image) - np.min(spoof_image))\n",
    "# )\n",
    "# mean = [0.485, 0.456, 0.406]\n",
    "# std = [0.229, 0.224, 0.225]\n",
    "# live_image = (live_image - mean) / std\n",
    "# spoof_image = (spoof_image - mean) / std\n",
    "\n",
    "# live_image = live_image * 2.0 - 1.0\n",
    "# spoof_image = spoof_image * 2.0 - 1.0\n",
    "\n",
    "# print(np.max(live_image))\n",
    "# print(np.min(live_image))\n",
    "# print(np.max(spoof_image))\n",
    "# print(np.min(spoof_image))\n",
    "\n",
    "\n",
    "live_image = tf.expand_dims(live_image, axis=0)\n",
    "spoof_image = tf.expand_dims(spoof_image, axis=0)\n",
    "\n",
    "\n",
    "# Make predictions\n",
    "live_depth_map = backbone.predict(live_image)[0]\n",
    "spoof_depth_map = backbone.predict(spoof_image)[0]\n",
    "\n",
    "\n",
    "\n",
    "# Normalize the depth maps\n",
    "live_depth_map = (\n",
    "    (live_depth_map - np.min(live_depth_map))\n",
    "    / (np.max(live_depth_map) - np.min(live_depth_map))\n",
    "    * 255.0\n",
    ")\n",
    "spoof_depth_map = (\n",
    "    (spoof_depth_map - np.min(spoof_depth_map))\n",
    "    / (np.max(spoof_depth_map) - np.min(spoof_depth_map))\n",
    "    * 255.0\n",
    ")\n",
    "\n",
    "# Convert the masks to uint8\n",
    "live_depth_map = live_depth_map.astype(np.uint8)\n",
    "spoof_depth_map = spoof_depth_map.astype(np.uint8)\n",
    "\n",
    "cv2.imwrite(\"Live_Depth_Map.png\", live_depth_map)\n",
    "cv2.imwrite(\"Spoof_Depth_Map.png\", spoof_depth_map)\n",
    "\n",
    "# Show the predicted depth maps\n",
    "cv2.imshow(\"Live Depth Map\", live_depth_map)\n",
    "cv2.imshow(\"Spoof Depth Map\", spoof_depth_map)\n",
    "cv2.waitKey(0)\n",
    "cv2.destroyAllWindows()"
   ]
  },
  {
   "cell_type": "code",
   "execution_count": null,
   "metadata": {},
   "outputs": [],
   "source": []
  }
 ],
 "metadata": {
  "kernelspec": {
   "display_name": "liveness",
   "language": "python",
   "name": "python3"
  },
  "language_info": {
   "codemirror_mode": {
    "name": "ipython",
    "version": 3
   },
   "file_extension": ".py",
   "mimetype": "text/x-python",
   "name": "python",
   "nbconvert_exporter": "python",
   "pygments_lexer": "ipython3",
   "version": "3.12.4"
  }
 },
 "nbformat": 4,
 "nbformat_minor": 2
}
